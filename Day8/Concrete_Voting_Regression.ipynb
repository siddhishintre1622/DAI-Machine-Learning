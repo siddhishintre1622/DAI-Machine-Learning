{
 "cells": [
  {
   "cell_type": "code",
   "execution_count": 1,
   "id": "99b8ee7f-b3f8-4a58-92e4-ce9127bb5cea",
   "metadata": {},
   "outputs": [],
   "source": [
    "from sklearn.ensemble import VotingRegressor\n",
    "import numpy as np\n",
    "import pandas as pd\n",
    "import matplotlib.pyplot as plt\n",
    "from sklearn.svm import SVC\n",
    "from sklearn import tree\n",
    "from sklearn.pipeline import Pipeline\n",
    "from sklearn.tree import DecisionTreeClassifier,DecisionTreeRegressor\n",
    "from sklearn.tree import plot_tree\n",
    "from sklearn.metrics import roc_auc_score,accuracy_score,r2_score\n",
    "from sklearn.model_selection import train_test_split, GridSearchCV, StratifiedKFold\n",
    "from sklearn.preprocessing import OneHotEncoder\n",
    "from sklearn.compose import make_column_transformer \n",
    "from sklearn.compose import make_column_selector\n",
    "from sklearn.preprocessing import MinMaxScaler, StandardScaler\n",
    "from sklearn.linear_model import LogisticRegression\n",
    "from sklearn.naive_bayes import GaussianNB\n",
    "from sklearn.linear_model import LinearRegression,ElasticNet\n",
    "\n",
    "import warnings\n",
    "warnings.filterwarnings(\"ignore\")"
   ]
  },
  {
   "cell_type": "code",
   "execution_count": 2,
   "id": "7c3b69f6-c219-4f3c-b5f2-2fad746b6ce6",
   "metadata": {},
   "outputs": [
    {
     "name": "stdout",
     "output_type": "stream",
     "text": [
      "Requirement already satisfied: ucimlrepo in c:\\anaconda-install\\lib\\site-packages (0.0.7)\n",
      "Requirement already satisfied: pandas>=1.0.0 in c:\\anaconda-install\\lib\\site-packages (from ucimlrepo) (2.2.2)\n",
      "Requirement already satisfied: certifi>=2020.12.5 in c:\\anaconda-install\\lib\\site-packages (from ucimlrepo) (2024.8.30)\n",
      "Requirement already satisfied: numpy>=1.26.0 in c:\\anaconda-install\\lib\\site-packages (from pandas>=1.0.0->ucimlrepo) (1.26.4)\n",
      "Requirement already satisfied: python-dateutil>=2.8.2 in c:\\anaconda-install\\lib\\site-packages (from pandas>=1.0.0->ucimlrepo) (2.9.0.post0)\n",
      "Requirement already satisfied: pytz>=2020.1 in c:\\anaconda-install\\lib\\site-packages (from pandas>=1.0.0->ucimlrepo) (2024.1)\n",
      "Requirement already satisfied: tzdata>=2022.7 in c:\\anaconda-install\\lib\\site-packages (from pandas>=1.0.0->ucimlrepo) (2023.3)\n",
      "Requirement already satisfied: six>=1.5 in c:\\anaconda-install\\lib\\site-packages (from python-dateutil>=2.8.2->pandas>=1.0.0->ucimlrepo) (1.16.0)\n",
      "Note: you may need to restart the kernel to use updated packages.\n"
     ]
    }
   ],
   "source": [
    "pip install ucimlrepo"
   ]
  },
  {
   "cell_type": "code",
   "execution_count": 3,
   "id": "b563407b-deed-449a-91de-caa3827ab554",
   "metadata": {},
   "outputs": [],
   "source": [
    "from ucimlrepo import fetch_ucirepo \n",
    "  \n",
    "# fetch dataset \n",
    "concrete_compressive_strength = fetch_ucirepo(id=165) \n",
    "  \n",
    "# data (as pandas dataframes) \n",
    "X = concrete_compressive_strength.data.features \n",
    "y = concrete_compressive_strength.data.targets \n"
   ]
  },
  {
   "cell_type": "code",
   "execution_count": 4,
   "id": "90596e12-83d7-436b-8007-af16e3bc88a7",
   "metadata": {},
   "outputs": [],
   "source": [
    "X_train, X_test, y_train, y_test = train_test_split(X,y, random_state=24, test_size=0.3)"
   ]
  },
  {
   "cell_type": "code",
   "execution_count": 5,
   "id": "5775f706-a5c0-4e7b-b736-0f611d747c5c",
   "metadata": {},
   "outputs": [
    {
     "name": "stdout",
     "output_type": "stream",
     "text": [
      "0.5733507274413595\n"
     ]
    }
   ],
   "source": [
    "dtr = DecisionTreeRegressor(random_state=24, max_depth=3)\n",
    "dtr.fit(X_train,y_train)\n",
    "y_pred = dtr.predict(X_test)\n",
    "r2_dtr= r2_score(y_test,y_pred)\n",
    "print(r2_dtr)\n",
    "\n"
   ]
  },
  {
   "cell_type": "code",
   "execution_count": 8,
   "id": "80b2ee0e-9995-4b0c-a4af-59549a896dea",
   "metadata": {},
   "outputs": [
    {
     "name": "stdout",
     "output_type": "stream",
     "text": [
      "0.5733507274413595\n"
     ]
    }
   ],
   "source": [
    "lr= LinearRegression()\n",
    "lr.fit(X_train,y_train)\n",
    "y_pred_lr = lr.predict(X_test)\n",
    "r2_lr= r2_score(y_test,y_pred)\n",
    "print(r2_lr)\n",
    "\n"
   ]
  },
  {
   "cell_type": "code",
   "execution_count": 9,
   "id": "79784d54-4371-40e5-b013-c1f44948629d",
   "metadata": {},
   "outputs": [
    {
     "name": "stdout",
     "output_type": "stream",
     "text": [
      "0.5733507274413595\n"
     ]
    }
   ],
   "source": [
    "el = ElasticNet(random_state=24)\n",
    "el.fit(X_train,y_train)\n",
    "y_pred_el = el.predict(X_test)\n",
    "r2_el= r2_score(y_test,y_pred)\n",
    "print(r2_el)\n"
   ]
  },
  {
   "cell_type": "code",
   "execution_count": 10,
   "id": "a6730e67-704a-4091-835c-bab001ce0e95",
   "metadata": {},
   "outputs": [
    {
     "data": {
      "text/plain": [
       "0.6980882262572616"
      ]
     },
     "execution_count": 10,
     "metadata": {},
     "output_type": "execute_result"
    }
   ],
   "source": [
    "voting = VotingRegressor([('LR',lr), ('EL',el),('DT', dtr)])\n",
    "voting.fit(X_train,y_train)\n",
    "y_pred= voting.predict(X_test)\n",
    "r2_score(y_test,y_pred)"
   ]
  },
  {
   "cell_type": "markdown",
   "id": "633fa21b-d605-4c30-af85-d6a9655e3dda",
   "metadata": {},
   "source": [
    "### Weighted Average"
   ]
  },
  {
   "cell_type": "code",
   "execution_count": 16,
   "id": "b6760782-0491-44c2-bbcf-ac21797c2a9b",
   "metadata": {},
   "outputs": [
    {
     "data": {
      "text/plain": [
       "0.6900405885741194"
      ]
     },
     "execution_count": 16,
     "metadata": {},
     "output_type": "execute_result"
    }
   ],
   "source": [
    "voting = VotingRegressor([('LR',lr), ('EL',el),('DT', dtr)],\n",
    "                        weights= [0.15,0.15,0.7])\n",
    "voting.fit(X_train,y_train)\n",
    "y_pred= voting.predict(X_test)\n",
    "r2_score(y_test,y_pred)"
   ]
  },
  {
   "cell_type": "markdown",
   "id": "b985e1f3-3e78-4367-8f2a-d256be6f27b7",
   "metadata": {},
   "source": [
    "OR"
   ]
  },
  {
   "cell_type": "code",
   "execution_count": 12,
   "id": "51eb39af-d9c7-4fad-88fb-0133b379ac44",
   "metadata": {},
   "outputs": [
    {
     "data": {
      "text/plain": [
       "0.6980882262572616"
      ]
     },
     "execution_count": 12,
     "metadata": {},
     "output_type": "execute_result"
    }
   ],
   "source": [
    "voting = VotingRegressor([('LR',lr), ('EL',el),('DT', dtr)],\n",
    "                        weights= [r2_lr,r2_el,r2_dtr])\n",
    "voting.fit(X_train,y_train)\n",
    "y_pred= voting.predict(X_test)\n",
    "r2_score(y_test,y_pred)"
   ]
  },
  {
   "cell_type": "code",
   "execution_count": 20,
   "id": "d0efc428-7fb5-4348-831f-2d012c7e41ce",
   "metadata": {},
   "outputs": [],
   "source": [
    "#OR voting using Estimators of same algorith"
   ]
  },
  {
   "cell_type": "code",
   "execution_count": 19,
   "id": "34f99ba8-6035-4542-8987-1fab65508743",
   "metadata": {},
   "outputs": [
    {
     "data": {
      "text/plain": [
       "0.7249748593933825"
      ]
     },
     "execution_count": 19,
     "metadata": {},
     "output_type": "execute_result"
    }
   ],
   "source": [
    "dtr1= DecisionTreeRegressor(random_state=24, max_depth=None)\n",
    "dtr2= DecisionTreeRegressor(random_state=24, max_depth=3)\n",
    "dtr3= DecisionTreeRegressor(random_state=24, max_depth=4)\n",
    "voting = VotingRegressor([('M1',dtr1), ('M2',dtr2),('M3', dtr3)],\n",
    "                        weights= [0.15,0.15,0.7])\n",
    "voting.fit(X_train,y_train)\n",
    "y_pred= voting.predict(X_test)\n",
    "r2_score(y_test,y_pred)"
   ]
  },
  {
   "cell_type": "code",
   "execution_count": null,
   "id": "3fdaa546-0f60-4b82-84fa-f3bd3afe4e71",
   "metadata": {},
   "outputs": [],
   "source": []
  }
 ],
 "metadata": {
  "kernelspec": {
   "display_name": "Python 3 (ipykernel)",
   "language": "python",
   "name": "python3"
  },
  "language_info": {
   "codemirror_mode": {
    "name": "ipython",
    "version": 3
   },
   "file_extension": ".py",
   "mimetype": "text/x-python",
   "name": "python",
   "nbconvert_exporter": "python",
   "pygments_lexer": "ipython3",
   "version": "3.12.4"
  }
 },
 "nbformat": 4,
 "nbformat_minor": 5
}
