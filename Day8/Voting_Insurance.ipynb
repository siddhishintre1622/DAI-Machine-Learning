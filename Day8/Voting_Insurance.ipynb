{
 "cells": [
  {
   "cell_type": "code",
   "execution_count": 7,
   "id": "03588b00-9f9a-4135-8165-3f31e7e41abc",
   "metadata": {},
   "outputs": [],
   "source": [
    "from sklearn.ensemble import VotingRegressor\n",
    "import numpy as np\n",
    "import pandas as pd\n",
    "import matplotlib.pyplot as plt\n",
    "from sklearn.svm import SVC\n",
    "from sklearn import tree\n",
    "from sklearn.pipeline import Pipeline\n",
    "from sklearn.tree import DecisionTreeClassifier,DecisionTreeRegressor\n",
    "from sklearn.tree import plot_tree\n",
    "from sklearn.metrics import roc_auc_score,accuracy_score,r2_score\n",
    "from sklearn.model_selection import train_test_split, GridSearchCV, StratifiedKFold\n",
    "from sklearn.preprocessing import OneHotEncoder\n",
    "from sklearn.compose import make_column_transformer \n",
    "from sklearn.compose import make_column_selector\n",
    "from sklearn.preprocessing import MinMaxScaler, StandardScaler\n",
    "from sklearn.linear_model import LogisticRegression\n",
    "from sklearn.naive_bayes import GaussianNB\n",
    "from sklearn.linear_model import LinearRegression,ElasticNet\n",
    "\n",
    "import warnings\n",
    "warnings.filterwarnings(\"ignore\")"
   ]
  },
  {
   "cell_type": "code",
   "execution_count": 8,
   "id": "9c4f593b-a346-4d64-aea3-7e72af5a0157",
   "metadata": {},
   "outputs": [],
   "source": [
    "med = pd.read_csv('insurance.csv')\n",
    "X = med.drop('charges',axis=1)\n",
    "y = med['charges']"
   ]
  },
  {
   "cell_type": "code",
   "execution_count": 9,
   "id": "0aa990ba-2179-44c3-91ce-c30ee172a3d7",
   "metadata": {},
   "outputs": [],
   "source": [
    "X_train, X_test, y_train, y_test = train_test_split(X,y, random_state=24, test_size=0.3)"
   ]
  },
  {
   "cell_type": "code",
   "execution_count": 10,
   "id": "0947ded6-cd10-4712-97e6-2ed6fe7c4d08",
   "metadata": {},
   "outputs": [],
   "source": [
    "\n",
    "ohe = OneHotEncoder(sparse_output=False,handle_unknown='ignore').set_output(transform='pandas')\n",
    "ct = make_column_transformer(('passthrough', make_column_selector(dtype_exclude=object)  ),\n",
    "                             (ohe,make_column_selector(dtype_include=object)  ),\n",
    "                             verbose_feature_names_out=False).set_output(transform='pandas')\n"
   ]
  },
  {
   "cell_type": "code",
   "execution_count": 13,
   "id": "f3d35967-218f-4246-84d8-6098e60d4f02",
   "metadata": {},
   "outputs": [],
   "source": [
    "dtr = DecisionTreeRegressor(random_state=24, max_depth=3)\n",
    "pipe_dtr  = Pipeline([('CT',ct),('DT',dtr)])\n",
    "lr= LinearRegression()\n",
    "pipe_lr = Pipeline([('CT',ct),('LR',lr)])\n",
    "el= ElasticNet()\n",
    "pipe_el  = Pipeline([('CT',ct),('EL',el)])\n"
   ]
  },
  {
   "cell_type": "code",
   "execution_count": 15,
   "id": "0205bf2d-efcb-4efe-97b4-c7cd8053a4b2",
   "metadata": {},
   "outputs": [
    {
     "name": "stdout",
     "output_type": "stream",
     "text": [
      "0.8684500380700454\n"
     ]
    }
   ],
   "source": [
    "pipe_dtr.fit(X_train,y_train)\n",
    "y_pred = pipe_dtr.predict(X_test)\n",
    "r2_dtr= r2_score(y_test,y_pred)\n",
    "print(r2_dtr)\n"
   ]
  },
  {
   "cell_type": "code",
   "execution_count": 17,
   "id": "530d59dd-37ab-415b-83a3-c2822430ea29",
   "metadata": {},
   "outputs": [
    {
     "name": "stdout",
     "output_type": "stream",
     "text": [
      "0.7665391799816873\n"
     ]
    }
   ],
   "source": [
    "pipe_lr.fit(X_train,y_train)\n",
    "y_pred = pipe_lr.predict(X_test)\n",
    "r2_dtr= r2_score(y_test,y_pred)\n",
    "print(r2_dtr)\n"
   ]
  },
  {
   "cell_type": "code",
   "execution_count": 18,
   "id": "e4904674-a866-4313-ba87-8273a49f7f7f",
   "metadata": {},
   "outputs": [
    {
     "name": "stdout",
     "output_type": "stream",
     "text": [
      "0.49673651151300835\n"
     ]
    }
   ],
   "source": [
    "pipe_el.fit(X_train,y_train)\n",
    "y_pred = pipe_el.predict(X_test)\n",
    "r2_dtr= r2_score(y_test,y_pred)\n",
    "print(r2_dtr)\n",
    "\n",
    "\n"
   ]
  },
  {
   "cell_type": "markdown",
   "id": "d3dd7434-15b4-4a01-92b0-ecd25e436a13",
   "metadata": {},
   "source": [
    "Voting"
   ]
  },
  {
   "cell_type": "code",
   "execution_count": 19,
   "id": "6189c521-adbf-4a48-9981-48e2d63c38ee",
   "metadata": {},
   "outputs": [
    {
     "data": {
      "text/plain": [
       "0.7931324996351616"
      ]
     },
     "execution_count": 19,
     "metadata": {},
     "output_type": "execute_result"
    }
   ],
   "source": [
    "voting = VotingRegressor([('LR',pipe_lr), ('EL',pipe_el),('DT', pipe_dtr)])\n",
    "voting.fit(X_train,y_train)\n",
    "y_pred= voting.predict(X_test)\n",
    "r2_score(y_test,y_pred)"
   ]
  },
  {
   "cell_type": "markdown",
   "id": "80ac7fa6-ccaf-442a-9d45-c0e6dd06d043",
   "metadata": {},
   "source": [
    "Weighted Average"
   ]
  },
  {
   "cell_type": "code",
   "execution_count": 20,
   "id": "a304e38f-ff4c-4f87-9aa8-045c933c2861",
   "metadata": {},
   "outputs": [
    {
     "data": {
      "text/plain": [
       "0.8239580766157142"
      ]
     },
     "execution_count": 20,
     "metadata": {},
     "output_type": "execute_result"
    }
   ],
   "source": [
    "voting = VotingRegressor([('LR',pipe_lr), ('EL',pipe_el),('DT', pipe_dtr)],\n",
    "                        weights= [0.4,0.2,0.4])\n",
    "voting.fit(X_train,y_train)\n",
    "y_pred= voting.predict(X_test)\n",
    "r2_score(y_test,y_pred)"
   ]
  },
  {
   "cell_type": "code",
   "execution_count": null,
   "id": "a527a347-b52f-4399-a858-30dc33ece509",
   "metadata": {},
   "outputs": [],
   "source": []
  },
  {
   "cell_type": "code",
   "execution_count": null,
   "id": "1fe62dbd-0791-4f73-b6b3-dd921e957855",
   "metadata": {},
   "outputs": [],
   "source": []
  }
 ],
 "metadata": {
  "kernelspec": {
   "display_name": "Python 3 (ipykernel)",
   "language": "python",
   "name": "python3"
  },
  "language_info": {
   "codemirror_mode": {
    "name": "ipython",
    "version": 3
   },
   "file_extension": ".py",
   "mimetype": "text/x-python",
   "name": "python",
   "nbconvert_exporter": "python",
   "pygments_lexer": "ipython3",
   "version": "3.12.4"
  }
 },
 "nbformat": 4,
 "nbformat_minor": 5
}
