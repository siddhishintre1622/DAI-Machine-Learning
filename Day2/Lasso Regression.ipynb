{
 "cells": [
  {
   "cell_type": "code",
   "execution_count": 4,
   "id": "31ff279c-f724-4479-87f3-ff04d0be0a2a",
   "metadata": {},
   "outputs": [],
   "source": [
    "import pandas as pd\n",
    "import numpy as np\n",
    "import matplotlib.pyplot as plt\n",
    "import seaborn as sns\n",
    "\n",
    "from sklearn.pipeline import Pipeline\n",
    "from sklearn.linear_model import LinearRegression\n",
    "from sklearn.metrics import r2_score\n",
    "from sklearn.preprocessing import StandardScaler,MinMaxScaler\n",
    "from sklearn.preprocessing import PolynomialFeatures\n",
    "from sklearn.model_selection import train_test_split\n",
    "from sklearn.linear_model import Ridge,Lasso"
   ]
  },
  {
   "cell_type": "code",
   "execution_count": 5,
   "id": "50636825-6dc4-4178-bb4a-1354b850e29b",
   "metadata": {},
   "outputs": [],
   "source": [
    "from ucimlrepo import fetch_ucirepo \n",
    "\n",
    "concrete_compressive_strength = fetch_ucirepo(id=165)   \n",
    "\n",
    "X = concrete_compressive_strength.data.features \n",
    "y = concrete_compressive_strength.data.targets \n"
   ]
  },
  {
   "cell_type": "code",
   "execution_count": 6,
   "id": "3178da5f-d7fa-4f19-991d-bc57a2888755",
   "metadata": {},
   "outputs": [
    {
     "data": {
      "text/plain": [
       "0.576333587787164"
      ]
     },
     "execution_count": 6,
     "metadata": {},
     "output_type": "execute_result"
    }
   ],
   "source": [
    "X_train, X_test,y_train,y_test = train_test_split(X,y,random_state=24,test_size=0.3)\n",
    "lasso = Lasso()\n",
    "lasso.fit(X_train,y_train)\n",
    "y_pred = lasso.predict(X_test)\n",
    "r2_score(y_test,y_pred)"
   ]
  },
  {
   "cell_type": "code",
   "execution_count": 11,
   "id": "d1ea18ed-a475-4d84-b465-8a3ace26027e",
   "metadata": {},
   "outputs": [],
   "source": [
    "alphas =  np.linspace(0.0001,10,20)\n",
    "scores = []\n",
    "for a in alphas:\n",
    "    lasso = Lasso(alpha=a)\n",
    "    lasso.fit(X_train,y_train)\n",
    "    y_pred = lasso.predict(X_test)\n",
    "    scores.append(r2_score(y_test,y_pred))\n",
    "    "
   ]
  },
  {
   "cell_type": "code",
   "execution_count": 12,
   "id": "e024f2c7-ac0e-40cb-945d-860af346f275",
   "metadata": {},
   "outputs": [
    {
     "name": "stdout",
     "output_type": "stream",
     "text": [
      "Best alpha 0.0001\n",
      "Best Scores : 0.5771752162488388\n"
     ]
    }
   ],
   "source": [
    "np.max(scores)\n",
    "i_max = np.argmax(np.max(scores))\n",
    "print(\"Best alpha\" , alphas[i_max])\n",
    "print(\"Best Scores :\",scores[i_max])"
   ]
  },
  {
   "cell_type": "code",
   "execution_count": null,
   "id": "56591f7a-8635-4ae0-904b-37fa2e9daebd",
   "metadata": {},
   "outputs": [],
   "source": []
  }
 ],
 "metadata": {
  "kernelspec": {
   "display_name": "Python 3 (ipykernel)",
   "language": "python",
   "name": "python3"
  },
  "language_info": {
   "codemirror_mode": {
    "name": "ipython",
    "version": 3
   },
   "file_extension": ".py",
   "mimetype": "text/x-python",
   "name": "python",
   "nbconvert_exporter": "python",
   "pygments_lexer": "ipython3",
   "version": "3.12.4"
  }
 },
 "nbformat": 4,
 "nbformat_minor": 5
}
