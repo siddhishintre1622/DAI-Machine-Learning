{
 "cells": [
  {
   "cell_type": "code",
   "execution_count": 1,
   "id": "9dbe997e-cf11-486c-bf38-5bb1d57befb4",
   "metadata": {},
   "outputs": [],
   "source": [
    "from sklearn.cluster import KMeans\n",
    "import numpy as np\n",
    "import pandas as pd\n",
    "import matplotlib.pyplot as plt\n",
    "import seaborn as sns\n",
    "\n",
    "from sklearn.cluster import AgglomerativeClustering\n",
    "from sklearn.metrics import silhouette_score\n",
    "from sklearn.preprocessing import StandardScaler\n"
   ]
  },
  {
   "cell_type": "code",
   "execution_count": 17,
   "id": "fca4541a-06d2-482e-85e6-e16eb2b78d07",
   "metadata": {},
   "outputs": [],
   "source": [
    "rfm= pd.read_csv(\"rfm_data_customer.csv\", index_col=0)\n",
    "rfm.drop('most_recent_visit', inplace=True, axis=1)"
   ]
  },
  {
   "cell_type": "code",
   "execution_count": 18,
   "id": "6de3e9b2-6595-4c65-a83d-fbb91a4353b2",
   "metadata": {},
   "outputs": [
    {
     "data": {
      "text/html": [
       "<div>\n",
       "<style scoped>\n",
       "    .dataframe tbody tr th:only-of-type {\n",
       "        vertical-align: middle;\n",
       "    }\n",
       "\n",
       "    .dataframe tbody tr th {\n",
       "        vertical-align: top;\n",
       "    }\n",
       "\n",
       "    .dataframe thead th {\n",
       "        text-align: right;\n",
       "    }\n",
       "</style>\n",
       "<table border=\"1\" class=\"dataframe\">\n",
       "  <thead>\n",
       "    <tr style=\"text-align: right;\">\n",
       "      <th></th>\n",
       "      <th>revenue</th>\n",
       "      <th>number_of_orders</th>\n",
       "      <th>recency_days</th>\n",
       "    </tr>\n",
       "    <tr>\n",
       "      <th>customer_id</th>\n",
       "      <th></th>\n",
       "      <th></th>\n",
       "      <th></th>\n",
       "    </tr>\n",
       "  </thead>\n",
       "  <tbody>\n",
       "    <tr>\n",
       "      <th>22086</th>\n",
       "      <td>777</td>\n",
       "      <td>9</td>\n",
       "      <td>232</td>\n",
       "    </tr>\n",
       "    <tr>\n",
       "      <th>2290</th>\n",
       "      <td>1555</td>\n",
       "      <td>16</td>\n",
       "      <td>115</td>\n",
       "    </tr>\n",
       "  </tbody>\n",
       "</table>\n",
       "</div>"
      ],
      "text/plain": [
       "             revenue  number_of_orders  recency_days\n",
       "customer_id                                         \n",
       "22086            777                 9           232\n",
       "2290            1555                16           115"
      ]
     },
     "execution_count": 18,
     "metadata": {},
     "output_type": "execute_result"
    }
   ],
   "source": [
    "rfm.head(2)"
   ]
  },
  {
   "cell_type": "code",
   "execution_count": 19,
   "id": "fe9e9a13-e7bb-4e86-9125-daed42f3df7a",
   "metadata": {},
   "outputs": [
    {
     "name": "stdout",
     "output_type": "stream",
     "text": [
      "[2 1 2 ... 2 2 1]\n"
     ]
    }
   ],
   "source": [
    "scaler = StandardScaler().set_output(transform='pandas')\n",
    "rfm_scaled= scaler.fit_transform(rfm)\n",
    "clust= KMeans(n_clusters=3)\n",
    "clust.fit(rfm_scaled)\n",
    "print(clust.labels_)"
   ]
  },
  {
   "cell_type": "code",
   "execution_count": 16,
   "id": "52ecf331-9d97-42c9-907c-798a29c3a418",
   "metadata": {},
   "outputs": [
    {
     "name": "stdout",
     "output_type": "stream",
     "text": [
      "[0.3619175885782477, 0.37102897041720206, 0.3229983236688364, 0.3249751004529168, 0.288058231818753]\n",
      "Best no of clusters: 3\n"
     ]
    }
   ],
   "source": [
    "scores= []\n",
    "n_clust= [2,3,4,5,6]\n",
    "for i in n_clust:\n",
    "        clust =KMeans(n_clusters=i, random_state=24)\n",
    "        clust.fit(rfm_scaled)\n",
    "        scores.append(silhouette_score(rfm_scaled, clust.labels_))    \n",
    "print(scores)\n",
    "i_max= np.argmax(scores)\n",
    "print(\"Best no of clusters:\", n_clust[i_max])\n"
   ]
  },
  {
   "cell_type": "code",
   "execution_count": null,
   "id": "4e5aacf1-4a49-40d3-bfc9-267750a23165",
   "metadata": {},
   "outputs": [],
   "source": [
    "   "
   ]
  },
  {
   "cell_type": "code",
   "execution_count": 27,
   "id": "24e76adf-da11-499c-bd08-65e780989d4c",
   "metadata": {},
   "outputs": [
    {
     "data": {
      "text/plain": [
       "1"
      ]
     },
     "execution_count": 27,
     "metadata": {},
     "output_type": "execute_result"
    }
   ],
   "source": [
    "i_max"
   ]
  },
  {
   "cell_type": "code",
   "execution_count": 25,
   "id": "b01d2ea2-6261-4795-a6d9-eee562af6cbe",
   "metadata": {},
   "outputs": [
    {
     "data": {
      "text/plain": [
       "0.37102897041720206"
      ]
     },
     "execution_count": 25,
     "metadata": {},
     "output_type": "execute_result"
    }
   ],
   "source": [
    "clust= KMeans(n_clusters=3, random_state=24)\n",
    "clust.fit(rfm_scaled)\n",
    "silhouette_score(rfm_scaled, clust.labels_)"
   ]
  },
  {
   "cell_type": "code",
   "execution_count": 28,
   "id": "9d3f7569-1c0f-4464-910c-65470074739e",
   "metadata": {},
   "outputs": [],
   "source": [
    "#Cluster Analysis"
   ]
  },
  {
   "cell_type": "code",
   "execution_count": 26,
   "id": "1d558aed-ecfd-4d68-94ce-3af4d45c6879",
   "metadata": {},
   "outputs": [
    {
     "data": {
      "text/html": [
       "<div>\n",
       "<style scoped>\n",
       "    .dataframe tbody tr th:only-of-type {\n",
       "        vertical-align: middle;\n",
       "    }\n",
       "\n",
       "    .dataframe tbody tr th {\n",
       "        vertical-align: top;\n",
       "    }\n",
       "\n",
       "    .dataframe thead th {\n",
       "        text-align: right;\n",
       "    }\n",
       "</style>\n",
       "<table border=\"1\" class=\"dataframe\">\n",
       "  <thead>\n",
       "    <tr style=\"text-align: right;\">\n",
       "      <th></th>\n",
       "      <th>revenue</th>\n",
       "      <th>number_of_orders</th>\n",
       "      <th>recency_days</th>\n",
       "    </tr>\n",
       "    <tr>\n",
       "      <th>cluster</th>\n",
       "      <th></th>\n",
       "      <th></th>\n",
       "      <th></th>\n",
       "    </tr>\n",
       "  </thead>\n",
       "  <tbody>\n",
       "    <tr>\n",
       "      <th>0</th>\n",
       "      <td>1281.119459</td>\n",
       "      <td>12.909267</td>\n",
       "      <td>133.255123</td>\n",
       "    </tr>\n",
       "    <tr>\n",
       "      <th>1</th>\n",
       "      <td>749.292247</td>\n",
       "      <td>8.227773</td>\n",
       "      <td>136.139784</td>\n",
       "    </tr>\n",
       "    <tr>\n",
       "      <th>2</th>\n",
       "      <td>692.414498</td>\n",
       "      <td>7.351090</td>\n",
       "      <td>416.697185</td>\n",
       "    </tr>\n",
       "  </tbody>\n",
       "</table>\n",
       "</div>"
      ],
      "text/plain": [
       "             revenue  number_of_orders  recency_days\n",
       "cluster                                             \n",
       "0        1281.119459         12.909267    133.255123\n",
       "1         749.292247          8.227773    136.139784\n",
       "2         692.414498          7.351090    416.697185"
      ]
     },
     "execution_count": 26,
     "metadata": {},
     "output_type": "execute_result"
    }
   ],
   "source": [
    "rfm_clust= rfm.copy()\n",
    "rfm_clust['cluster'] = clust.labels_\n",
    "\n",
    "rfm_clust.groupby('cluster').mean()"
   ]
  },
  {
   "cell_type": "code",
   "execution_count": 29,
   "id": "ec78c59b-472f-48e7-a245-6181091e4de8",
   "metadata": {},
   "outputs": [
    {
     "data": {
      "text/plain": [
       "39999"
      ]
     },
     "execution_count": 29,
     "metadata": {},
     "output_type": "execute_result"
    }
   ],
   "source": [
    "rfm.shape[0]"
   ]
  },
  {
   "cell_type": "code",
   "execution_count": null,
   "id": "25390c39-d4b5-4c7c-bb0b-78b8ad1135a7",
   "metadata": {},
   "outputs": [],
   "source": []
  }
 ],
 "metadata": {
  "kernelspec": {
   "display_name": "Python 3 (ipykernel)",
   "language": "python",
   "name": "python3"
  },
  "language_info": {
   "codemirror_mode": {
    "name": "ipython",
    "version": 3
   },
   "file_extension": ".py",
   "mimetype": "text/x-python",
   "name": "python",
   "nbconvert_exporter": "python",
   "pygments_lexer": "ipython3",
   "version": "3.12.4"
  }
 },
 "nbformat": 4,
 "nbformat_minor": 5
}
