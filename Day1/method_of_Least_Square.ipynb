{
 "cells": [
  {
   "cell_type": "markdown",
   "id": "1c577223-150b-4c05-a67b-9082eebc3c85",
   "metadata": {},
   "source": [
    "Method of Least Square"
   ]
  },
  {
   "cell_type": "code",
   "execution_count": 1,
   "id": "edd3c617-0683-4860-b4c7-5bb00195e6b6",
   "metadata": {},
   "outputs": [],
   "source": [
    "import numpy as np"
   ]
  },
  {
   "cell_type": "code",
   "execution_count": 5,
   "id": "73aa3435-4726-46f5-afdd-c72c9060a652",
   "metadata": {},
   "outputs": [],
   "source": [
    "x= np.array([2,5,7,8,9,10,23,45])\n",
    "y= np.array([13,15,20,34,36,56,66,78])"
   ]
  },
  {
   "cell_type": "code",
   "execution_count": 7,
   "id": "650ca52e-f6c9-49e6-b88c-ad60fb6e0cdb",
   "metadata": {},
   "outputs": [],
   "source": [
    "xi = x.sum()"
   ]
  },
  {
   "cell_type": "code",
   "execution_count": 9,
   "id": "4545add8-4e8c-479a-aaca-822d0cfc8cc0",
   "metadata": {},
   "outputs": [
    {
     "data": {
      "text/plain": [
       "109"
      ]
     },
     "execution_count": 9,
     "metadata": {},
     "output_type": "execute_result"
    }
   ],
   "source": [
    "xi"
   ]
  },
  {
   "cell_type": "code",
   "execution_count": 11,
   "id": "d3c6c079-7903-436b-b919-075b2e8d18f9",
   "metadata": {},
   "outputs": [],
   "source": [
    "yi = y.sum()"
   ]
  },
  {
   "cell_type": "code",
   "execution_count": 13,
   "id": "2e3f2ae3-10d8-430a-8e50-388a602e1fae",
   "metadata": {},
   "outputs": [
    {
     "data": {
      "text/plain": [
       "318"
      ]
     },
     "execution_count": 13,
     "metadata": {},
     "output_type": "execute_result"
    }
   ],
   "source": [
    "yi"
   ]
  },
  {
   "cell_type": "code",
   "execution_count": 15,
   "id": "1ac8a43d-892f-42d4-bade-fe0b0a066dfe",
   "metadata": {},
   "outputs": [],
   "source": [
    "xisqr = xi**2"
   ]
  },
  {
   "cell_type": "code",
   "execution_count": 21,
   "id": "f08947ff-dca6-4e80-8a6c-f834edb8f148",
   "metadata": {},
   "outputs": [],
   "source": [
    "n=8"
   ]
  },
  {
   "cell_type": "code",
   "execution_count": 23,
   "id": "f5536316-a092-4e33-8d44-a5cbc5f4b6e4",
   "metadata": {},
   "outputs": [],
   "source": [
    "xisqrn = xisqr/n"
   ]
  },
  {
   "cell_type": "code",
   "execution_count": 25,
   "id": "aa9b10a4-e739-457a-a6b7-422e41a819c6",
   "metadata": {},
   "outputs": [],
   "source": [
    "xsqr = x **2"
   ]
  },
  {
   "cell_type": "code",
   "execution_count": 31,
   "id": "d3bd892e-fc76-4cec-994d-c882a3298b89",
   "metadata": {},
   "outputs": [
    {
     "data": {
      "text/plain": [
       "array([   4,   25,   49,   64,   81,  100,  529, 2025])"
      ]
     },
     "execution_count": 31,
     "metadata": {},
     "output_type": "execute_result"
    }
   ],
   "source": [
    "xsqr"
   ]
  },
  {
   "cell_type": "code",
   "execution_count": 29,
   "id": "032c4227-1e44-4825-ad21-1ba24c6cc249",
   "metadata": {},
   "outputs": [],
   "source": [
    "xsqrs = xsqr.sum()"
   ]
  },
  {
   "cell_type": "code",
   "execution_count": 33,
   "id": "ad3c8b3d-7123-472c-a789-617ff2fa2799",
   "metadata": {},
   "outputs": [
    {
     "data": {
      "text/plain": [
       "2877"
      ]
     },
     "execution_count": 33,
     "metadata": {},
     "output_type": "execute_result"
    }
   ],
   "source": [
    "xsqrs"
   ]
  },
  {
   "cell_type": "code",
   "execution_count": 35,
   "id": "aac0385a-c662-453d-81c1-cbdc763c1571",
   "metadata": {},
   "outputs": [],
   "source": [
    "xiyi = x*y"
   ]
  },
  {
   "cell_type": "code",
   "execution_count": 37,
   "id": "71549899-91ca-4a14-b40c-641fffb992ae",
   "metadata": {},
   "outputs": [],
   "source": [
    "num = (xi*yi)/n - xiyi"
   ]
  },
  {
   "cell_type": "code",
   "execution_count": 39,
   "id": "41479136-ba7a-4d74-b92c-82d712ec702a",
   "metadata": {},
   "outputs": [
    {
     "data": {
      "text/plain": [
       "array([4306.75, 4257.75, 4192.75, 4060.75, 4008.75, 3772.75, 2814.75,\n",
       "        822.75])"
      ]
     },
     "execution_count": 39,
     "metadata": {},
     "output_type": "execute_result"
    }
   ],
   "source": [
    "num"
   ]
  },
  {
   "cell_type": "code",
   "execution_count": 41,
   "id": "12037148-767e-41ec-bd65-cc4512188330",
   "metadata": {},
   "outputs": [],
   "source": [
    "den = xisqrn - xisqr"
   ]
  },
  {
   "cell_type": "code",
   "execution_count": 47,
   "id": "6d7f6848-c39f-46a1-ac7f-d9cf1ef18db4",
   "metadata": {},
   "outputs": [],
   "source": [
    "b1 = num/den"
   ]
  },
  {
   "cell_type": "code",
   "execution_count": 49,
   "id": "b8d1df30-1bf0-4c65-ad2a-66c56fd8878a",
   "metadata": {},
   "outputs": [
    {
     "data": {
      "text/plain": [
       "array([-0.41427489, -0.40956148, -0.403309  , -0.39061166, -0.38560968,\n",
       "       -0.36290837, -0.27075643, -0.07914197])"
      ]
     },
     "execution_count": 49,
     "metadata": {},
     "output_type": "execute_result"
    }
   ],
   "source": [
    "b1"
   ]
  },
  {
   "cell_type": "code",
   "execution_count": 51,
   "id": "cf1ea9e3-8cd3-472d-abae-3e3daa4c4477",
   "metadata": {},
   "outputs": [],
   "source": [
    "s_x = np.sum(x)\n",
    "s_y = np.sum(y)\n",
    "s_xy= np.sum(x*y) #np.dot(x,y)\n",
    "s_xx= np.sum(x*x)\n",
    "n= len(x)"
   ]
  },
  {
   "cell_type": "code",
   "execution_count": 55,
   "id": "a291587e-ab6e-4365-8a39-a20542d177ac",
   "metadata": {},
   "outputs": [
    {
     "data": {
      "text/plain": [
       "1.5031881454872025"
      ]
     },
     "execution_count": 55,
     "metadata": {},
     "output_type": "execute_result"
    }
   ],
   "source": [
    "num_b1 = s_x*s_y/n - s_xy\n",
    "den_b1 = (s_x**2)/n - s_xx\n",
    "b1= num_b1/den_b1\n",
    "b1"
   ]
  },
  {
   "cell_type": "code",
   "execution_count": 53,
   "id": "4ac94010-4b73-44da-8044-6841aec85bdd",
   "metadata": {},
   "outputs": [
    {
     "data": {
      "text/plain": [
       "1.5031881454872025"
      ]
     },
     "execution_count": 53,
     "metadata": {},
     "output_type": "execute_result"
    }
   ],
   "source": [
    "b1 = ((s_x*s_y/n) - s_xy)/((s_x**2/n) - s_xx)\n",
    "b1"
   ]
  },
  {
   "cell_type": "code",
   "execution_count": 61,
   "id": "d34e19c2-5144-415b-9c11-75cc0ad6795d",
   "metadata": {},
   "outputs": [
    {
     "data": {
      "text/plain": [
       "19.269061517736866"
      ]
     },
     "execution_count": 61,
     "metadata": {},
     "output_type": "execute_result"
    }
   ],
   "source": [
    "b0= (s_y-b1*s_x)/n\n",
    "b0"
   ]
  },
  {
   "cell_type": "code",
   "execution_count": 67,
   "id": "99d9e286-c991-4096-94d0-418debb02ab7",
   "metadata": {},
   "outputs": [
    {
     "data": {
      "text/plain": [
       "array([ 2,  5,  7,  8,  9, 10, 23, 45])"
      ]
     },
     "execution_count": 67,
     "metadata": {},
     "output_type": "execute_result"
    }
   ],
   "source": [
    "from sklearn.linear_model import LinearRegression\n",
    "lr= LinearRegression()\n",
    "x"
   ]
  },
  {
   "cell_type": "code",
   "execution_count": 75,
   "id": "9b0118b4-ee00-4506-b2b9-3f4646e2c1ab",
   "metadata": {},
   "outputs": [
    {
     "data": {
      "text/plain": [
       "(19.26906151773686, array([1.50318815]))"
      ]
     },
     "execution_count": 75,
     "metadata": {},
     "output_type": "execute_result"
    }
   ],
   "source": [
    "lr.fit(x.reshape(-1,1),y)\n",
    "lr.intercept_, lr.coef_"
   ]
  },
  {
   "cell_type": "code",
   "execution_count": 77,
   "id": "2a7975d6-3d80-47cf-9aed-fcf550f13068",
   "metadata": {},
   "outputs": [
    {
     "data": {
      "text/plain": [
       "array([ 2,  5,  7,  8,  9, 10, 23, 45])"
      ]
     },
     "execution_count": 77,
     "metadata": {},
     "output_type": "execute_result"
    }
   ],
   "source": [
    "x"
   ]
  },
  {
   "cell_type": "code",
   "execution_count": null,
   "id": "d89fbb04-500c-4e4e-b01d-7aed309a6c34",
   "metadata": {},
   "outputs": [],
   "source": []
  }
 ],
 "metadata": {
  "kernelspec": {
   "display_name": "Python 3 (ipykernel)",
   "language": "python",
   "name": "python3"
  },
  "language_info": {
   "codemirror_mode": {
    "name": "ipython",
    "version": 3
   },
   "file_extension": ".py",
   "mimetype": "text/x-python",
   "name": "python",
   "nbconvert_exporter": "python",
   "pygments_lexer": "ipython3",
   "version": "3.12.4"
  }
 },
 "nbformat": 4,
 "nbformat_minor": 5
}
