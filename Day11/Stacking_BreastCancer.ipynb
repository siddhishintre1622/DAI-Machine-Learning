{
 "cells": [
  {
   "cell_type": "code",
   "execution_count": 27,
   "id": "c8be62f5-966b-4936-8830-931d0a2a3faf",
   "metadata": {},
   "outputs": [],
   "source": [
    "from sklearn.ensemble import StackingClassifier\n",
    "import numpy as np\n",
    "import pandas as pd\n",
    "import matplotlib.pyplot as plt\n",
    " \n",
    "from sklearn import tree\n",
    "from sklearn.tree import DecisionTreeClassifier\n",
    "\n",
    "from sklearn.tree import plot_tree\n",
    "from sklearn.metrics import roc_auc_score,accuracy_score\n",
    "from sklearn.model_selection import train_test_split\n",
    "from sklearn.naive_bayes import GaussianNB\n",
    "from sklearn.neighbors import KNeighborsClassifier\n",
    "from sklearn.linear_model import LogisticRegression\n",
    "from sklearn.svm import SVC\n"
   ]
  },
  {
   "cell_type": "code",
   "execution_count": 34,
   "id": "0de3e219-fc5e-498c-aaf2-83db8cac8c51",
   "metadata": {},
   "outputs": [],
   "source": [
    "cancer = pd.read_csv('BreastCancer.csv')\n",
    "X = cancer.drop('Class',axis=1)\n",
    "y = cancer['Class']"
   ]
  },
  {
   "cell_type": "code",
   "execution_count": 35,
   "id": "8b92062d-d7d4-4622-bf52-7affe2953fd5",
   "metadata": {},
   "outputs": [],
   "source": [
    "X_train, X_test, y_train, y_test = train_test_split(X,y, random_state=24, test_size=0.3,stratify=y)\n"
   ]
  },
  {
   "cell_type": "code",
   "execution_count": 36,
   "id": "9cacbb4b-c06e-4826-9939-c2807b6b5b10",
   "metadata": {},
   "outputs": [],
   "source": [
    "knn = KNeighborsClassifier()\n",
    "nb = GaussianNB()\n",
    "dt = DecisionTreeClassifier(random_state=24)\n",
    "svm = SVC(probability=True,random_state=24)\n",
    "lr = LogisticRegression(random_state=24)\n",
    "\n",
    "stack = StackingClassifier(estimators=[('KNN',knn),('NB',nb),('DT',dt),('SVM',svm)]  , final_estimator = lr)"
   ]
  },
  {
   "cell_type": "code",
   "execution_count": 37,
   "id": "cc2a48e7-3d29-4b1e-9a4b-2dd7e9ae4699",
   "metadata": {},
   "outputs": [
    {
     "name": "stdout",
     "output_type": "stream",
     "text": [
      "0.9523809523809523\n"
     ]
    }
   ],
   "source": [
    "stack.fit(X_train,y_train)\n",
    "y_pred = stack.predict(X_test)\n",
    "print(accuracy_score(y_test,y_pred))"
   ]
  },
  {
   "cell_type": "code",
   "execution_count": 38,
   "id": "1caf29db-e632-424e-8942-7656b99c932b",
   "metadata": {},
   "outputs": [
    {
     "name": "stdout",
     "output_type": "stream",
     "text": [
      "0.9645732689210951\n"
     ]
    }
   ],
   "source": [
    "y_pred_proba = stack.predict_proba(X_test)[:,1]\n",
    "print(roc_auc_score(y_test,y_pred_proba))"
   ]
  },
  {
   "cell_type": "code",
   "execution_count": 41,
   "id": "b54b0a35-b25e-4318-8519-0bf5ae3d1e37",
   "metadata": {},
   "outputs": [
    {
     "data": {
      "text/plain": [
       "Index(['Code', 'Clump', 'UniCell_Size', 'Uni_CellShape', 'MargAdh', 'SEpith',\n",
       "       'BareN', 'BChromatin', 'NoemN', 'Mitoses'],\n",
       "      dtype='object')"
      ]
     },
     "execution_count": 41,
     "metadata": {},
     "output_type": "execute_result"
    }
   ],
   "source": [
    "X.columns\n"
   ]
  },
  {
   "cell_type": "markdown",
   "id": "f5129bdf-78b5-4ba9-a746-8a396ed1bd21",
   "metadata": {},
   "source": [
    "### Using `passthrough`"
   ]
  },
  {
   "cell_type": "code",
   "execution_count": 40,
   "id": "f1d0e72d-a0c1-43e0-940c-aca16c3f5f08",
   "metadata": {},
   "outputs": [
    {
     "name": "stdout",
     "output_type": "stream",
     "text": [
      "0.9571428571428572\n"
     ]
    }
   ],
   "source": [
    "stack = StackingClassifier(estimators=[('KNN',knn),('NB',nb),('DT',dt),('SVM',svm)]  , final_estimator = lr,passthrough=True)\n",
    "stack.fit(X_train,y_train)\n",
    "y_pred = stack.predict(X_test)\n",
    "print(accuracy_score(y_test,y_pred))"
   ]
  },
  {
   "cell_type": "code",
   "execution_count": null,
   "id": "f3a398b2-a674-4727-9edf-cd1a5b7f2844",
   "metadata": {},
   "outputs": [],
   "source": []
  }
 ],
 "metadata": {
  "kernelspec": {
   "display_name": "Python 3 (ipykernel)",
   "language": "python",
   "name": "python3"
  },
  "language_info": {
   "codemirror_mode": {
    "name": "ipython",
    "version": 3
   },
   "file_extension": ".py",
   "mimetype": "text/x-python",
   "name": "python",
   "nbconvert_exporter": "python",
   "pygments_lexer": "ipython3",
   "version": "3.12.4"
  }
 },
 "nbformat": 4,
 "nbformat_minor": 5
}
