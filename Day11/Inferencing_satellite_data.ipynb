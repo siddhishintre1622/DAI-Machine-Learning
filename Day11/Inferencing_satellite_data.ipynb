{
 "cells": [
  {
   "cell_type": "code",
   "execution_count": 1,
   "id": "7afc923a-f091-4846-97a4-f505f0820a30",
   "metadata": {},
   "outputs": [],
   "source": [
    "import pickle"
   ]
  },
  {
   "cell_type": "code",
   "execution_count": null,
   "id": "1cd134aa-10ab-4791-80b6-192176e051c9",
   "metadata": {},
   "outputs": [],
   "source": [
    "infile =  open('stacking_satellite.pkl','rb')\n",
    "obj = infile.load(infile)"
   ]
  },
  {
   "cell_type": "code",
   "execution_count": null,
   "id": "7797a83a-dee3-4c50-856a-99680248e39d",
   "metadata": {},
   "outputs": [],
   "source": [
    "obj"
   ]
  },
  {
   "cell_type": "code",
   "execution_count": null,
   "id": "34dc0cc1-3be8-4cc4-a6ba-659c7a70c09d",
   "metadata": {},
   "outputs": [],
   "source": [
    "test = pd.read_csv('')"
   ]
  },
  {
   "cell_type": "code",
   "execution_count": null,
   "id": "93d717e2-dcfa-4dda-b62c-d606360adcfa",
   "metadata": {},
   "outputs": [],
   "source": [
    "pred = obj.predict('tst_satellite.csv')"
   ]
  },
  {
   "cell_type": "code",
   "execution_count": null,
   "id": "3325618d-e40b-4833-b8d5-8c50c3e814f8",
   "metadata": {},
   "outputs": [],
   "source": [
    "test['prediction'] = pred"
   ]
  },
  {
   "cell_type": "code",
   "execution_count": null,
   "id": "f1459f17-0d58-43fc-86c8-2f58cdafd392",
   "metadata": {},
   "outputs": [],
   "source": [
    "test"
   ]
  },
  {
   "cell_type": "code",
   "execution_count": null,
   "id": "9a0305e9-cebd-474e-b4d1-7c574ab3ae67",
   "metadata": {},
   "outputs": [],
   "source": []
  }
 ],
 "metadata": {
  "kernelspec": {
   "display_name": "Python 3 (ipykernel)",
   "language": "python",
   "name": "python3"
  },
  "language_info": {
   "codemirror_mode": {
    "name": "ipython",
    "version": 3
   },
   "file_extension": ".py",
   "mimetype": "text/x-python",
   "name": "python",
   "nbconvert_exporter": "python",
   "pygments_lexer": "ipython3",
   "version": "3.12.4"
  }
 },
 "nbformat": 4,
 "nbformat_minor": 5
}
