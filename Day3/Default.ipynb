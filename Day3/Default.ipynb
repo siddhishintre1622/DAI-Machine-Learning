{
 "cells": [
  {
   "cell_type": "code",
   "execution_count": 79,
   "id": "26f026b1-239e-4527-aa8e-8a535dc7b4a3",
   "metadata": {},
   "outputs": [],
   "source": [
    "import pandas as pd\n",
    "import numpy as np\n",
    "from sklearn.pipeline import Pipeline\n",
    "from sklearn.linear_model import LinearRegression,ElasticNet\n",
    "from sklearn.metrics import r2_score\n",
    "from sklearn.preprocessing import PolynomialFeatures\n",
    "from sklearn.impute import SimpleImputer\n",
    "from sklearn.model_selection import KFold, cross_val_score, GridSearchCV\n",
    "from sklearn.metrics import confusion_matrix, accuracy_score\n",
    "from sklearn.preprocessing import LabelEncoder\n",
    "from sklearn.model_selection import train_test_split \n",
    "from sklearn.linear_model import LogisticRegression\n",
    "from sklearn.metrics import confusion_matrix, accuracy_score\n",
    "from sklearn.model_selection import train_test_split \n",
    "from sklearn.preprocessing import PolynomialFeatures, OneHotEncoder\n",
    "from sklearn.compose import make_column_transformer\n",
    "from sklearn.compose import make_column_selector\n",
    "\n"
   ]
  },
  {
   "cell_type": "code",
   "execution_count": 80,
   "id": "ce51a9ab-6606-4b36-af2a-136b8963dd45",
   "metadata": {},
   "outputs": [],
   "source": [
    "df= pd.read_csv(\"Default.csv\")"
   ]
  },
  {
   "cell_type": "code",
   "execution_count": 81,
   "id": "c617807e-b3bc-402c-893c-63476d40cd29",
   "metadata": {},
   "outputs": [
    {
     "data": {
      "text/html": [
       "<div>\n",
       "<style scoped>\n",
       "    .dataframe tbody tr th:only-of-type {\n",
       "        vertical-align: middle;\n",
       "    }\n",
       "\n",
       "    .dataframe tbody tr th {\n",
       "        vertical-align: top;\n",
       "    }\n",
       "\n",
       "    .dataframe thead th {\n",
       "        text-align: right;\n",
       "    }\n",
       "</style>\n",
       "<table border=\"1\" class=\"dataframe\">\n",
       "  <thead>\n",
       "    <tr style=\"text-align: right;\">\n",
       "      <th></th>\n",
       "      <th>default</th>\n",
       "      <th>student</th>\n",
       "      <th>balance</th>\n",
       "      <th>income</th>\n",
       "    </tr>\n",
       "  </thead>\n",
       "  <tbody>\n",
       "    <tr>\n",
       "      <th>0</th>\n",
       "      <td>No</td>\n",
       "      <td>No</td>\n",
       "      <td>729.526495</td>\n",
       "      <td>44361.62507</td>\n",
       "    </tr>\n",
       "    <tr>\n",
       "      <th>1</th>\n",
       "      <td>No</td>\n",
       "      <td>Yes</td>\n",
       "      <td>817.180407</td>\n",
       "      <td>12106.13470</td>\n",
       "    </tr>\n",
       "  </tbody>\n",
       "</table>\n",
       "</div>"
      ],
      "text/plain": [
       "  default student     balance       income\n",
       "0      No      No  729.526495  44361.62507\n",
       "1      No     Yes  817.180407  12106.13470"
      ]
     },
     "execution_count": 81,
     "metadata": {},
     "output_type": "execute_result"
    }
   ],
   "source": [
    "df.head(2)"
   ]
  },
  {
   "cell_type": "code",
   "execution_count": 82,
   "id": "14ec7df4-a656-467f-b3f5-ce17cf1502a4",
   "metadata": {},
   "outputs": [
    {
     "data": {
      "text/plain": [
       "default\n",
       "No     9667\n",
       "Yes     333\n",
       "Name: count, dtype: int64"
      ]
     },
     "execution_count": 82,
     "metadata": {},
     "output_type": "execute_result"
    }
   ],
   "source": [
    "df['default'].value_counts()"
   ]
  },
  {
   "cell_type": "code",
   "execution_count": 83,
   "id": "dbf2d0b7-6a52-4f60-aca0-0a0fe9b52e29",
   "metadata": {},
   "outputs": [],
   "source": [
    "lbl= LabelEncoder()\n",
    "\n",
    "df['default']= lbl.fit_transform(df['default'])\n",
    "df['student']= lbl.fit_transform(df['student'])"
   ]
  },
  {
   "cell_type": "code",
   "execution_count": 84,
   "id": "3c45e1b0-ebf8-40b1-9682-2e2d3d02ffa6",
   "metadata": {},
   "outputs": [],
   "source": [
    "X= df.drop('default',axis=1)\n",
    "y= df['default']"
   ]
  },
  {
   "cell_type": "code",
   "execution_count": 85,
   "id": "d6aa14df-89e8-4dc4-9470-88907e3b35fb",
   "metadata": {},
   "outputs": [],
   "source": [
    "lr = LogisticRegression()"
   ]
  },
  {
   "cell_type": "code",
   "execution_count": 86,
   "id": "465b491f-7bb9-4209-876c-6dee7556fffb",
   "metadata": {},
   "outputs": [
    {
     "name": "stdout",
     "output_type": "stream",
     "text": [
      "0.97\n"
     ]
    }
   ],
   "source": [
    "\n",
    "X_train, X_test, y_train, y_test = train_test_split(X,y, random_state=24, test_size=0.3)\n",
    "ohe = OneHotEncoder(sparse_output=False, drop='first').set_output(transform='pandas')\n",
    "ct = make_column_transformer(('passthrough', make_column_selector(dtype_exclude=object)  ),\n",
    "                             (ohe,make_column_selector(dtype_include=object)  ),\n",
    "                             verbose_feature_names_out=False).set_output(transform='pandas')\n",
    "pipe= Pipeline([('CT', ct),('LR',lr)])\n",
    "pipe.fit(X_train,y_train)\n",
    "y_pred= pipe.predict(X_test)\n",
    "print(accuracy_score(y_test, y_pred))\n"
   ]
  },
  {
   "cell_type": "code",
   "execution_count": null,
   "id": "dd97f38c-3854-4b7e-8bf2-391fa540a25e",
   "metadata": {},
   "outputs": [],
   "source": []
  },
  {
   "cell_type": "markdown",
   "id": "31a84693-9333-4ad9-88b4-e881eb3ff5f3",
   "metadata": {},
   "source": [
    "Naive Model"
   ]
  },
  {
   "cell_type": "code",
   "execution_count": 27,
   "id": "4cee7c9f-9e55-4a39-9709-f775f992245e",
   "metadata": {},
   "outputs": [
    {
     "data": {
      "text/plain": [
       "default\n",
       "No     2901\n",
       "Yes      99\n",
       "Name: count, dtype: int64"
      ]
     },
     "execution_count": 27,
     "metadata": {},
     "output_type": "execute_result"
    }
   ],
   "source": [
    "y_test.value_counts()"
   ]
  },
  {
   "cell_type": "code",
   "execution_count": 28,
   "id": "4c008332-940f-46b2-a0ea-76f29f0cddb4",
   "metadata": {},
   "outputs": [
    {
     "name": "stdout",
     "output_type": "stream",
     "text": [
      "0.967\n"
     ]
    }
   ],
   "source": [
    "y_pred_nv= np.repeat(\"No\", y_test.shape[0])\n",
    "print(accuracy_score(y_test,y_pred_nv))"
   ]
  },
  {
   "cell_type": "markdown",
   "id": "30ab5e7a-1c93-45ce-9804-954ac0c1c765",
   "metadata": {},
   "source": [
    "### KFold CV\n"
   ]
  },
  {
   "cell_type": "code",
   "execution_count": 87,
   "id": "33e20c71-23b6-484d-917c-467e73a4db67",
   "metadata": {},
   "outputs": [
    {
     "data": {
      "text/plain": [
       "0.9731"
      ]
     },
     "execution_count": 87,
     "metadata": {},
     "output_type": "execute_result"
    }
   ],
   "source": [
    "results = cross_val_score(pipe,X,y)\n",
    "results.mean()"
   ]
  },
  {
   "cell_type": "code",
   "execution_count": null,
   "id": "ce81b2bf-703c-4678-9d24-6d8d0d3e6b4d",
   "metadata": {},
   "outputs": [],
   "source": []
  }
 ],
 "metadata": {
  "kernelspec": {
   "display_name": "Python 3 (ipykernel)",
   "language": "python",
   "name": "python3"
  },
  "language_info": {
   "codemirror_mode": {
    "name": "ipython",
    "version": 3
   },
   "file_extension": ".py",
   "mimetype": "text/x-python",
   "name": "python",
   "nbconvert_exporter": "python",
   "pygments_lexer": "ipython3",
   "version": "3.12.4"
  }
 },
 "nbformat": 4,
 "nbformat_minor": 5
}
